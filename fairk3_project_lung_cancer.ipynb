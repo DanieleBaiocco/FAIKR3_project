{
 "cells": [
  {
   "cell_type": "code",
   "execution_count": 20,
   "id": "04c41d28",
   "metadata": {},
   "outputs": [],
   "source": [
    "## Loading the dataset\n",
    "\n",
    "import pandas as pd\n",
    "\n",
    "df = pd.read_csv('survey_lung_cancer.csv') \n"
   ]
  },
  {
   "cell_type": "code",
   "execution_count": 21,
   "id": "39e5680b",
   "metadata": {},
   "outputs": [
    {
     "data": {
      "text/html": [
       "<div>\n",
       "<style scoped>\n",
       "    .dataframe tbody tr th:only-of-type {\n",
       "        vertical-align: middle;\n",
       "    }\n",
       "\n",
       "    .dataframe tbody tr th {\n",
       "        vertical-align: top;\n",
       "    }\n",
       "\n",
       "    .dataframe thead th {\n",
       "        text-align: right;\n",
       "    }\n",
       "</style>\n",
       "<table border=\"1\" class=\"dataframe\">\n",
       "  <thead>\n",
       "    <tr style=\"text-align: right;\">\n",
       "      <th></th>\n",
       "      <th>AGE</th>\n",
       "      <th>SMOKING</th>\n",
       "      <th>ANXIETY</th>\n",
       "      <th>PEER_PRESSURE</th>\n",
       "      <th>FATIGUE</th>\n",
       "      <th>ALLERGY</th>\n",
       "      <th>WHEEZING</th>\n",
       "      <th>COUGHING</th>\n",
       "      <th>CHEST PAIN</th>\n",
       "      <th>LUNG_CANCER</th>\n",
       "    </tr>\n",
       "  </thead>\n",
       "  <tbody>\n",
       "    <tr>\n",
       "      <th>0</th>\n",
       "      <td>2</td>\n",
       "      <td>NO</td>\n",
       "      <td>YES</td>\n",
       "      <td>NO</td>\n",
       "      <td>YES</td>\n",
       "      <td>NO</td>\n",
       "      <td>YES</td>\n",
       "      <td>YES</td>\n",
       "      <td>YES</td>\n",
       "      <td>YES</td>\n",
       "    </tr>\n",
       "    <tr>\n",
       "      <th>1</th>\n",
       "      <td>2</td>\n",
       "      <td>YES</td>\n",
       "      <td>NO</td>\n",
       "      <td>NO</td>\n",
       "      <td>YES</td>\n",
       "      <td>YES</td>\n",
       "      <td>NO</td>\n",
       "      <td>NO</td>\n",
       "      <td>YES</td>\n",
       "      <td>YES</td>\n",
       "    </tr>\n",
       "    <tr>\n",
       "      <th>2</th>\n",
       "      <td>1</td>\n",
       "      <td>NO</td>\n",
       "      <td>NO</td>\n",
       "      <td>YES</td>\n",
       "      <td>YES</td>\n",
       "      <td>NO</td>\n",
       "      <td>YES</td>\n",
       "      <td>YES</td>\n",
       "      <td>YES</td>\n",
       "      <td>NO</td>\n",
       "    </tr>\n",
       "    <tr>\n",
       "      <th>3</th>\n",
       "      <td>1</td>\n",
       "      <td>YES</td>\n",
       "      <td>YES</td>\n",
       "      <td>NO</td>\n",
       "      <td>NO</td>\n",
       "      <td>NO</td>\n",
       "      <td>NO</td>\n",
       "      <td>NO</td>\n",
       "      <td>YES</td>\n",
       "      <td>NO</td>\n",
       "    </tr>\n",
       "    <tr>\n",
       "      <th>4</th>\n",
       "      <td>1</td>\n",
       "      <td>NO</td>\n",
       "      <td>NO</td>\n",
       "      <td>NO</td>\n",
       "      <td>NO</td>\n",
       "      <td>NO</td>\n",
       "      <td>YES</td>\n",
       "      <td>YES</td>\n",
       "      <td>NO</td>\n",
       "      <td>NO</td>\n",
       "    </tr>\n",
       "  </tbody>\n",
       "</table>\n",
       "</div>"
      ],
      "text/plain": [
       "   AGE SMOKING ANXIETY PEER_PRESSURE FATIGUE ALLERGY WHEEZING COUGHING  \\\n",
       "0    2      NO     YES            NO     YES      NO      YES      YES   \n",
       "1    2     YES      NO            NO     YES     YES       NO       NO   \n",
       "2    1      NO      NO           YES     YES      NO      YES      YES   \n",
       "3    1     YES     YES            NO      NO      NO       NO       NO   \n",
       "4    1      NO      NO            NO      NO      NO      YES      YES   \n",
       "\n",
       "  CHEST PAIN LUNG_CANCER  \n",
       "0        YES         YES  \n",
       "1        YES         YES  \n",
       "2        YES          NO  \n",
       "3        YES          NO  \n",
       "4         NO          NO  "
      ]
     },
     "execution_count": 21,
     "metadata": {},
     "output_type": "execute_result"
    }
   ],
   "source": [
    "## Preprocessing\n",
    "\n",
    "df1 = df.drop(labels=['GENDER','YELLOW_FINGERS','CHRONIC DISEASE','ALCOHOL CONSUMING','SWALLOWING DIFFICULTY','SHORTNESS OF BREATH'], axis = 1)\n",
    "\n",
    "from sklearn.preprocessing import KBinsDiscretizer\n",
    "import numpy as np\n",
    "est = KBinsDiscretizer(n_bins=3, encode='ordinal', strategy='uniform')\n",
    "df1['AGE'] = est.fit_transform(np.array(df1['AGE']).reshape(-1, 1)).astype(int)\n",
    "\n",
    "df1 = df1.rename(columns={\"FATIGUE \":\"FATIGUE\"})\n",
    "df1 = df1.rename(columns={\"ALLERGY \":\"ALLERGY\"})\n",
    "\n",
    "for i in df1.iloc[:, 1:9]:\n",
    "    df1[i] = df1[i].transform(lambda x: 'YES' if (x == 2) else 'NO')\n",
    "    \n",
    "df1.head()"
   ]
  },
  {
   "cell_type": "code",
   "execution_count": 22,
   "id": "d1407cfc",
   "metadata": {
    "scrolled": true
   },
   "outputs": [
    {
     "name": "stdout",
     "output_type": "stream",
     "text": [
      "+--------------+----------+\n",
      "| ANXIETY(NO)  | 0.501618 |\n",
      "+--------------+----------+\n",
      "| ANXIETY(YES) | 0.498382 |\n",
      "+--------------+----------+\n",
      "+---------------+-------------------+--------------------+-------------------+---------------------+\n",
      "| ANXIETY       | ANXIETY(NO)       | ANXIETY(NO)        | ANXIETY(YES)      | ANXIETY(YES)        |\n",
      "+---------------+-------------------+--------------------+-------------------+---------------------+\n",
      "| PEER_PRESSURE | PEER_PRESSURE(NO) | PEER_PRESSURE(YES) | PEER_PRESSURE(NO) | PEER_PRESSURE(YES)  |\n",
      "+---------------+-------------------+--------------------+-------------------+---------------------+\n",
      "| SMOKING(NO)   | 0.425531914893617 | 0.6557377049180327 | 0.4               | 0.32978723404255317 |\n",
      "+---------------+-------------------+--------------------+-------------------+---------------------+\n",
      "| SMOKING(YES)  | 0.574468085106383 | 0.3442622950819672 | 0.6               | 0.6702127659574468  |\n",
      "+---------------+-------------------+--------------------+-------------------+---------------------+\n",
      "+--------------------+----------+\n",
      "| PEER_PRESSURE(NO)  | 0.498382 |\n",
      "+--------------------+----------+\n",
      "| PEER_PRESSURE(YES) | 0.501618 |\n",
      "+--------------------+----------+\n",
      "+------------------+-------------+--------------+-----+---------------------+---------------------+\n",
      "| AGE              | AGE(0)      | AGE(0)       | ... | AGE(2)              | AGE(2)              |\n",
      "+------------------+-------------+--------------+-----+---------------------+---------------------+\n",
      "| SMOKING          | SMOKING(NO) | SMOKING(YES) | ... | SMOKING(NO)         | SMOKING(YES)        |\n",
      "+------------------+-------------+--------------+-----+---------------------+---------------------+\n",
      "| LUNG_CANCER(NO)  | 0.0         | 0.5          | ... | 0.07692307692307693 | 0.09836065573770492 |\n",
      "+------------------+-------------+--------------+-----+---------------------+---------------------+\n",
      "| LUNG_CANCER(YES) | 1.0         | 0.5          | ... | 0.9230769230769231  | 0.9016393442622951  |\n",
      "+------------------+-------------+--------------+-----+---------------------+---------------------+\n",
      "+--------+------------+\n",
      "| AGE(0) | 0.00970874 |\n",
      "+--------+------------+\n",
      "| AGE(1) | 0.624595   |\n",
      "+--------+------------+\n",
      "| AGE(2) | 0.365696   |\n",
      "+--------+------------+\n",
      "+---------------+---------------------+--------------------+-----------------+--------------------+\n",
      "| ALLERGY       | ALLERGY(NO)         | ALLERGY(NO)        | ALLERGY(YES)    | ALLERGY(YES)       |\n",
      "+---------------+---------------------+--------------------+-----------------+--------------------+\n",
      "| LUNG_CANCER   | LUNG_CANCER(NO)     | LUNG_CANCER(YES)   | LUNG_CANCER(NO) | LUNG_CANCER(YES)   |\n",
      "+---------------+---------------------+--------------------+-----------------+--------------------+\n",
      "| WHEEZING(NO)  | 0.7941176470588235  | 0.4563106796116505 | 0.6             | 0.3592814371257485 |\n",
      "+---------------+---------------------+--------------------+-----------------+--------------------+\n",
      "| WHEEZING(YES) | 0.20588235294117646 | 0.5436893203883495 | 0.4             | 0.6407185628742516 |\n",
      "+---------------+---------------------+--------------------+-----------------+--------------------+\n",
      "+---------------+---------------------+---------------------+-----------------+---------------------+\n",
      "| ALLERGY       | ALLERGY(NO)         | ALLERGY(NO)         | ALLERGY(YES)    | ALLERGY(YES)        |\n",
      "+---------------+---------------------+---------------------+-----------------+---------------------+\n",
      "| LUNG_CANCER   | LUNG_CANCER(NO)     | LUNG_CANCER(YES)    | LUNG_CANCER(NO) | LUNG_CANCER(YES)    |\n",
      "+---------------+---------------------+---------------------+-----------------+---------------------+\n",
      "| COUGHING(NO)  | 0.7647058823529411  | 0.44660194174757284 | 0.6             | 0.32934131736526945 |\n",
      "+---------------+---------------------+---------------------+-----------------+---------------------+\n",
      "| COUGHING(YES) | 0.23529411764705882 | 0.5533980582524272  | 0.4             | 0.6706586826347305  |\n",
      "+---------------+---------------------+---------------------+-----------------+---------------------+\n",
      "+-----------------+--------------------+--------------------+\n",
      "| LUNG_CANCER     | LUNG_CANCER(NO)    | LUNG_CANCER(YES)   |\n",
      "+-----------------+--------------------+--------------------+\n",
      "| CHEST PAIN(NO)  | 0.6923076923076923 | 0.4074074074074074 |\n",
      "+-----------------+--------------------+--------------------+\n",
      "| CHEST PAIN(YES) | 0.3076923076923077 | 0.5925925925925926 |\n",
      "+-----------------+--------------------+--------------------+\n",
      "+--------------+----------+\n",
      "| ALLERGY(NO)  | 0.443366 |\n",
      "+--------------+----------+\n",
      "| ALLERGY(YES) | 0.556634 |\n",
      "+--------------+----------+\n",
      "+--------------+---------------------+---------------------+---------------------+---------------+\n",
      "| COUGHING     | COUGHING(NO)        | COUGHING(NO)        | COUGHING(YES)       | COUGHING(YES) |\n",
      "+--------------+---------------------+---------------------+---------------------+---------------+\n",
      "| WHEEZING     | WHEEZING(NO)        | WHEEZING(YES)       | WHEEZING(NO)        | WHEEZING(YES) |\n",
      "+--------------+---------------------+---------------------+---------------------+---------------+\n",
      "| FATIGUE(NO)  | 0.43023255813953487 | 0.36363636363636365 | 0.35294117647058826 | 0.234375      |\n",
      "+--------------+---------------------+---------------------+---------------------+---------------+\n",
      "| FATIGUE(YES) | 0.5697674418604651  | 0.6363636363636364  | 0.6470588235294118  | 0.765625      |\n",
      "+--------------+---------------------+---------------------+---------------------+---------------+\n"
     ]
    }
   ],
   "source": [
    "## Constructing the Bayesian Network\n",
    "\n",
    "from pgmpy.models import BayesianNetwork\n",
    "from pgmpy.estimators import MaximumLikelihoodEstimator\n",
    "nodes = [('ANXIETY','SMOKING'),('PEER_PRESSURE','SMOKING'),('SMOKING','LUNG_CANCER'), ('AGE','LUNG_CANCER'), ('LUNG_CANCER','WHEEZING'),\n",
    "         ('LUNG_CANCER','COUGHING'),('LUNG_CANCER','CHEST PAIN'),('ALLERGY','WHEEZING'),('ALLERGY','COUGHING'),('WHEEZING','FATIGUE'),\n",
    "         ('COUGHING','FATIGUE')]\n",
    "model= BayesianNetwork(nodes)\n",
    "model.fit(df1, estimator=MaximumLikelihoodEstimator)\n",
    "for cpd in model.get_cpds():\n",
    "    print(cpd)\n",
    "   "
   ]
  },
  {
   "cell_type": "code",
   "execution_count": 23,
   "id": "14e4d25d",
   "metadata": {},
   "outputs": [
    {
     "data": {
      "application/vnd.jupyter.widget-view+json": {
       "model_id": "3b03e7be705945abae054e35831fc16c",
       "version_major": 2,
       "version_minor": 0
      },
      "text/plain": [
       "  0%|          | 0/3 [00:00<?, ?it/s]"
      ]
     },
     "metadata": {},
     "output_type": "display_data"
    },
    {
     "data": {
      "application/vnd.jupyter.widget-view+json": {
       "model_id": "b03a11ffee38423383ca5bd4ba244480",
       "version_major": 2,
       "version_minor": 0
      },
      "text/plain": [
       "  0%|          | 0/3 [00:00<?, ?it/s]"
      ]
     },
     "metadata": {},
     "output_type": "display_data"
    },
    {
     "name": "stdout",
     "output_type": "stream",
     "text": [
      "query used to show how to make inference with variable elimination\n",
      "+------------------+--------------------+\n",
      "| LUNG_CANCER      |   phi(LUNG_CANCER) |\n",
      "+==================+====================+\n",
      "| LUNG_CANCER(NO)  |             0.1289 |\n",
      "+------------------+--------------------+\n",
      "| LUNG_CANCER(YES) |             0.8711 |\n",
      "+------------------+--------------------+\n"
     ]
    },
    {
     "data": {
      "application/vnd.jupyter.widget-view+json": {
       "model_id": "567f7687e29247e3a5a5c6e293d05f6f",
       "version_major": 2,
       "version_minor": 0
      },
      "text/plain": [
       "0it [00:00, ?it/s]"
      ]
     },
     "metadata": {},
     "output_type": "display_data"
    },
    {
     "data": {
      "application/vnd.jupyter.widget-view+json": {
       "model_id": "a9808a67059746ba88cf28e5a6d05b0a",
       "version_major": 2,
       "version_minor": 0
      },
      "text/plain": [
       "0it [00:00, ?it/s]"
      ]
     },
     "metadata": {},
     "output_type": "display_data"
    },
    {
     "data": {
      "application/vnd.jupyter.widget-view+json": {
       "model_id": "3f26bc52082b43418cd76014576e4c02",
       "version_major": 2,
       "version_minor": 0
      },
      "text/plain": [
       "0it [00:00, ?it/s]"
      ]
     },
     "metadata": {},
     "output_type": "display_data"
    },
    {
     "data": {
      "application/vnd.jupyter.widget-view+json": {
       "model_id": "03826cb76e3a4466b2260ac1c09ff137",
       "version_major": 2,
       "version_minor": 0
      },
      "text/plain": [
       "0it [00:00, ?it/s]"
      ]
     },
     "metadata": {},
     "output_type": "display_data"
    },
    {
     "name": "stdout",
     "output_type": "stream",
     "text": [
      "query with markov blanket of coughing as evidence\n",
      "+---------------+-----------------+\n",
      "| COUGHING      |   phi(COUGHING) |\n",
      "+===============+=================+\n",
      "| COUGHING(NO)  |          0.5560 |\n",
      "+---------------+-----------------+\n",
      "| COUGHING(YES) |          0.4440 |\n",
      "+---------------+-----------------+ \n",
      "\n",
      "query with markov blanket of coughing and all the remaining nodes as evidence\n",
      "+---------------+-----------------+\n",
      "| COUGHING      |   phi(COUGHING) |\n",
      "+===============+=================+\n",
      "| COUGHING(NO)  |          0.5560 |\n",
      "+---------------+-----------------+\n",
      "| COUGHING(YES) |          0.4440 |\n",
      "+---------------+-----------------+\n"
     ]
    }
   ],
   "source": [
    "## Doing inference\n",
    "\n",
    "from pgmpy.inference import VariableElimination\n",
    "lungcancer_infer = VariableElimination(model)\n",
    "\n",
    "#simple query in order to show the variable elimination algorithm\n",
    "q1=lungcancer_infer.query(variables=['LUNG_CANCER'], evidence={'PEER_PRESSURE':'YES'})\n",
    "print('query used to show how to make inference with variable elimination')\n",
    "print(q1)\n",
    "\n",
    "\n",
    "# queries meant to show the conditional independence derived from markov blanket\n",
    "q2=lungcancer_infer.query(variables=['COUGHING'], evidence={'LUNG_CANCER':'YES','ALLERGY':'NO','FATIGUE':'NO','WHEEZING':'YES'})\n",
    "q3=lungcancer_infer.query(variables=['COUGHING'], evidence={'LUNG_CANCER':'YES','ALLERGY':'NO','FATIGUE':'NO','WHEEZING':'YES',\n",
    "                                                           'ANXIETY':'NO','AGE':2,'CHEST PAIN':'YES','SMOKING':'YES','PEER_PRESSURE':'NO'})\n",
    "print('query with markov blanket of coughing as evidence')\n",
    "print(q2,'\\n')\n",
    "\n",
    "print('query with markov blanket of coughing and all the remaining nodes as evidence')\n",
    "print(q3)"
   ]
  }
 ],
 "metadata": {
  "kernelspec": {
   "display_name": "Python 3 (ipykernel)",
   "language": "python",
   "name": "python3"
  },
  "language_info": {
   "codemirror_mode": {
    "name": "ipython",
    "version": 3
   },
   "file_extension": ".py",
   "mimetype": "text/x-python",
   "name": "python",
   "nbconvert_exporter": "python",
   "pygments_lexer": "ipython3",
   "version": "3.9.7"
  }
 },
 "nbformat": 4,
 "nbformat_minor": 5
}
